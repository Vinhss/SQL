{
 "cells": [
  {
   "cell_type": "markdown",
   "metadata": {},
   "source": [
    "Connect"
   ]
  },
  {
   "cell_type": "code",
   "execution_count": 2,
   "metadata": {},
   "outputs": [
    {
     "name": "stdout",
     "output_type": "stream",
     "text": [
      "(1, 'The Lord of the Rings', 'J.R.R. Tolkien', '978-0618640157', 1954, 'Fantasy', '2', 4)\n",
      "(2, 'Pride and Prejudice', 'Jane Austen', '978-0141439518', 1813, 'Romance', 'Penguin Classics', 3)\n",
      "(3, 'To Kill a Mockingbird', 'Harper Lee', '978-0446310789', 1960, 'Southern Gothic', 'Grand Central Publishing', 8)\n",
      "(4, 'The Great Gatsby', 'F. Scott Fitzgerald', '978-0743273565', 1925, 'Classic', 'Scribner', 2)\n",
      "(5, '1984', 'George Orwell', '978-0451524935', 1949, 'Dystopian', 'Signet Classics', 10)\n",
      "\n"
     ]
    }
   ],
   "source": [
    "import pyodbc\n",
    "\n",
    "# connect database from sql\n",
    "conn = pyodbc.connect('Driver={SQL Server};'\n",
    "                        'Server=LAPTOP-UVRSHL4N\\SQLEXPRESS;' # Server login at SQL Server\n",
    "                        'Database=LibraryManagement;'\n",
    "                        'Trusted_Connection=yes;')\n",
    "\n",
    "# print out first 5 line\n",
    "cursor = conn.cursor()\n",
    "query = 'select top 5* from [Books] ;'\n",
    "cursor.execute(query)\n",
    "results = cursor.fetchall()\n",
    "for row in results:\n",
    "    print(row)\n",
    "\n",
    "print()\n"
   ]
  },
  {
   "cell_type": "markdown",
   "metadata": {},
   "source": [
    " takes a SQL query as input, executes it using a database cursor"
   ]
  },
  {
   "cell_type": "code",
   "execution_count": 3,
   "metadata": {},
   "outputs": [],
   "source": [
    "def execute_query_select(query):\n",
    "    cursor = conn.cursor()\n",
    "    cursor.execute(query)\n",
    "    rows = cursor.fetchall()\n",
    "    for row in rows:\n",
    "        print(row)\n",
    "    print(\"done\")\n",
    "\n",
    "def execute_query(query):\n",
    "    cursor = conn.cursor()\n",
    "    cursor.execute(query)\n",
    "    print(\"done\")"
   ]
  },
  {
   "cell_type": "markdown",
   "metadata": {},
   "source": [
    "INSERT: Add a new book and member"
   ]
  },
  {
   "cell_type": "code",
   "execution_count": 4,
   "metadata": {},
   "outputs": [
    {
     "name": "stdout",
     "output_type": "stream",
     "text": [
      "done\n",
      "-------------------------------\n",
      "done\n"
     ]
    }
   ],
   "source": [
    "query3 = f\"INSERT INTO Books (Title, Author, ISBN, PublicationYear, Genre, Publisher, CopiesAvailable) VALUES ('Book Title 6', 'Author new', '123123', 2019, 'Fashion', 'Penguin happy', 5), ('Book Title 3', 'Author 3', '2345678901', 2024, 'Non-fun', 'william', 3)\"\n",
    "rs3 = execute_query(query3)\n",
    "\n",
    "print('-------------------------------')\n",
    "\n",
    "query4 =f\"INSERT INTO Members (FirstName, LastName, MembershipType, RegistrationDate) VALUES ('John', 'Doe', 'Regular', '2023-06-01')\"\n",
    "rs4 = execute_query(query4)"
   ]
  },
  {
   "cell_type": "markdown",
   "metadata": {},
   "source": [
    "Update member table"
   ]
  },
  {
   "cell_type": "code",
   "execution_count": 5,
   "metadata": {},
   "outputs": [
    {
     "name": "stdout",
     "output_type": "stream",
     "text": [
      "(1, 'Jane', 'Doe', 'Standard', '2023-01-15')\n",
      "(2, 'Jane', 'Smith', 'Premium', '2023-03-22')\n",
      "(3, 'Alice', 'Johnson', 'Student', '2023-05-10')\n",
      "(4, 'Bob', 'Brown', 'Standard', '2023-02-08')\n",
      "(5, 'Eva', 'Williams', 'Premium', '2023-04-18')\n",
      "(6, 'Michael', 'Jones', 'Student', '2023-06-03')\n",
      "(7, 'Olivia', 'Davis', 'Standard', '2023-01-29')\n",
      "(8, 'Daniel', 'Taylor', 'Premium', '2023-03-12')\n",
      "(9, 'Sophia', 'Anderson', 'Student', '2023-05-25')\n",
      "(10, 'William', 'Wilson', 'Standard', '2023-02-19')\n",
      "(11, 'John', 'Doe', 'Regular', '2023-06-01')\n",
      "(18, 'John', 'Doe', 'Regular', '2023-06-01')\n",
      "done\n",
      "done\n",
      "(1, 'Jack', 'Uck', 'Standard', '2023-01-15')\n",
      "(2, 'Jane', 'Smith', 'Premium', '2023-03-22')\n",
      "(3, 'Alice', 'Johnson', 'Student', '2023-05-10')\n",
      "(4, 'Bob', 'Brown', 'Standard', '2023-02-08')\n",
      "(5, 'Eva', 'Williams', 'Premium', '2023-04-18')\n",
      "(6, 'Michael', 'Jones', 'Student', '2023-06-03')\n",
      "(7, 'Olivia', 'Davis', 'Standard', '2023-01-29')\n",
      "(8, 'Daniel', 'Taylor', 'Premium', '2023-03-12')\n",
      "(9, 'Sophia', 'Anderson', 'Student', '2023-05-25')\n",
      "(10, 'William', 'Wilson', 'Standard', '2023-02-19')\n",
      "(11, 'John', 'Doe', 'Regular', '2023-06-01')\n",
      "(18, 'John', 'Doe', 'Regular', '2023-06-01')\n",
      "done\n"
     ]
    }
   ],
   "source": [
    "query5_0 = \"select * from Members\"\n",
    "rs_2 = execute_query_select(query5_0)\n",
    "query5_1 =f\"UPDATE Members SET FirstName = 'Jack', LastName = 'Uck' WHERE MemberID = 1;\"\n",
    "rs5_1 = execute_query(query5_1)\n",
    "\n",
    "rs_2 = execute_query_select(query5_0)"
   ]
  },
  {
   "cell_type": "markdown",
   "metadata": {},
   "source": [
    "Removing Exact Duplicates (All Columns Match):"
   ]
  },
  {
   "cell_type": "code",
   "execution_count": 6,
   "metadata": {},
   "outputs": [
    {
     "name": "stdout",
     "output_type": "stream",
     "text": [
      "done\n"
     ]
    }
   ],
   "source": [
    "\n",
    "query6_0 = f\"WITH CTE AS (SELECT *, ROW_NUMBER() OVER (PARTITION BY BookID, Title, Author, ISBN, PublicationYear, Genre, Publisher, CopiesAvailable ORDER BY BookID) AS RowNum FROM Books) DELETE FROM CTE WHERE RowNum > 1;\"\n",
    "rs6_0 = execute_query(query6_0)"
   ]
  }
 ],
 "metadata": {
  "kernelspec": {
   "display_name": "Python 3",
   "language": "python",
   "name": "python3"
  },
  "language_info": {
   "codemirror_mode": {
    "name": "ipython",
    "version": 3
   },
   "file_extension": ".py",
   "mimetype": "text/x-python",
   "name": "python",
   "nbconvert_exporter": "python",
   "pygments_lexer": "ipython3",
   "version": "3.11.9"
  }
 },
 "nbformat": 4,
 "nbformat_minor": 2
}
